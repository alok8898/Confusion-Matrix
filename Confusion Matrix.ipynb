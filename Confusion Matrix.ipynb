{
 "cells": [
  {
   "cell_type": "markdown",
   "id": "f21269ea",
   "metadata": {},
   "source": [
    "# Load Necessary Libraries"
   ]
  },
  {
   "cell_type": "code",
   "execution_count": 1,
   "id": "30d803b6",
   "metadata": {},
   "outputs": [],
   "source": [
    "import pandas as pd\n",
    "import matplotlib.pyplot as plt\n",
    "import seaborn as sns\n",
    "from sklearn.model_selection import train_test_split\n",
    "from sklearn.preprocessing import StandardScaler\n",
    "from sklearn.linear_model import LogisticRegression\n",
    "from sklearn.metrics import accuracy_score, classification_report, confusion_matrix"
   ]
  },
  {
   "cell_type": "code",
   "execution_count": 2,
   "id": "8e08921c",
   "metadata": {},
   "outputs": [],
   "source": [
    "def plot_confusion_matrix(y_true, y_pred, class_names, figsize=(8, 6), cmap=\"Blues\"):\n",
    "    cm = confusion_matrix(y_true, y_pred)\n",
    "    plt.figure(figsize=figsize)\n",
    "    sns.heatmap(cm, annot=True, fmt=\"d\", cmap=cmap,\n",
    "                xticklabels=class_names, yticklabels=class_names)\n",
    "    plt.xlabel(\"Predicted Labels\")\n",
    "    plt.ylabel(\"True Labels\")\n",
    "    plt.title(\"Confusion Matrix\")\n",
    "    plt.show()"
   ]
  },
  {
   "cell_type": "markdown",
   "id": "24b98b57",
   "metadata": {},
   "source": [
    "# Load Dataset"
   ]
  },
  {
   "cell_type": "code",
   "execution_count": 3,
   "id": "d68cf2a9",
   "metadata": {},
   "outputs": [],
   "source": [
    "# Load the dataset\n",
    "data = pd.read_csv(\"Heart_Disease_Prediction.csv\")"
   ]
  },
  {
   "cell_type": "code",
   "execution_count": 4,
   "id": "1bb224fb",
   "metadata": {},
   "outputs": [
    {
     "name": "stdout",
     "output_type": "stream",
     "text": [
      "   Age  Sex  Chest pain type   BP  Cholesterol  FBS over 120  EKG results  \\\n",
      "0   70    1                4  130          322             0            2   \n",
      "1   67    0                3  115          564             0            2   \n",
      "2   57    1                2  124          261             0            0   \n",
      "3   64    1                4  128          263             0            0   \n",
      "4   74    0                2  120          269             0            2   \n",
      "\n",
      "   Max HR  Exercise angina  ST depression  Slope of ST  \\\n",
      "0     109                0            2.4            2   \n",
      "1     160                0            1.6            2   \n",
      "2     141                0            0.3            1   \n",
      "3     105                1            0.2            2   \n",
      "4     121                1            0.2            1   \n",
      "\n",
      "   Number of vessels fluro  Thallium Heart Disease  \n",
      "0                        3         3      Presence  \n",
      "1                        0         7       Absence  \n",
      "2                        0         7      Presence  \n",
      "3                        1         7       Absence  \n",
      "4                        1         3       Absence  \n"
     ]
    }
   ],
   "source": [
    "print(data.head())"
   ]
  },
  {
   "cell_type": "code",
   "execution_count": 5,
   "id": "e4940e19",
   "metadata": {},
   "outputs": [
    {
     "name": "stdout",
     "output_type": "stream",
     "text": [
      "Index(['Age', 'Sex', 'Chest pain type', 'BP', 'Cholesterol', 'FBS over 120',\n",
      "       'EKG results', 'Max HR', 'Exercise angina', 'ST depression',\n",
      "       'Slope of ST', 'Number of vessels fluro', 'Thallium', 'Heart Disease'],\n",
      "      dtype='object')\n"
     ]
    }
   ],
   "source": [
    "print(data.columns)"
   ]
  },
  {
   "cell_type": "markdown",
   "id": "f242f446",
   "metadata": {},
   "source": [
    "# Model building and Evalution"
   ]
  },
  {
   "cell_type": "code",
   "execution_count": 6,
   "id": "74e45128",
   "metadata": {},
   "outputs": [],
   "source": [
    "# Separate the features (X) and target (y)\n",
    "X = data.drop(columns=['Heart Disease'])\n",
    "y = data['Heart Disease']"
   ]
  },
  {
   "cell_type": "code",
   "execution_count": 7,
   "id": "0fb5e3bd",
   "metadata": {},
   "outputs": [],
   "source": [
    "# Split the data into training and testing sets\n",
    "X_train, X_test, y_train, y_test = train_test_split(X, y, test_size=0.2, random_state=42)"
   ]
  },
  {
   "cell_type": "code",
   "execution_count": 8,
   "id": "673fbe9b",
   "metadata": {},
   "outputs": [],
   "source": [
    "# Scale the features for better model performance\n",
    "scaler = StandardScaler()\n",
    "X_train = scaler.fit_transform(X_train)\n",
    "X_test = scaler.transform(X_test)"
   ]
  },
  {
   "cell_type": "markdown",
   "id": "b8e7ea26",
   "metadata": {},
   "source": [
    "# Logistic Regression Model"
   ]
  },
  {
   "cell_type": "code",
   "execution_count": 9,
   "id": "f7a614cb",
   "metadata": {},
   "outputs": [
    {
     "data": {
      "text/plain": [
       "LogisticRegression()"
      ]
     },
     "execution_count": 9,
     "metadata": {},
     "output_type": "execute_result"
    }
   ],
   "source": [
    "# Create and train the logistic regression model\n",
    "model = LogisticRegression()\n",
    "model.fit(X_train, y_train)"
   ]
  },
  {
   "cell_type": "code",
   "execution_count": 10,
   "id": "fde23895",
   "metadata": {},
   "outputs": [
    {
     "data": {
      "text/plain": [
       "array(['Presence', 'Presence', 'Absence', 'Absence', 'Absence',\n",
       "       'Presence', 'Presence', 'Absence', 'Absence', 'Absence', 'Absence',\n",
       "       'Presence', 'Presence', 'Presence', 'Absence', 'Absence',\n",
       "       'Presence', 'Absence', 'Presence', 'Absence', 'Presence',\n",
       "       'Absence', 'Presence', 'Absence', 'Absence', 'Presence', 'Absence',\n",
       "       'Presence', 'Absence', 'Absence', 'Absence', 'Absence', 'Presence',\n",
       "       'Absence', 'Absence', 'Presence', 'Presence', 'Absence',\n",
       "       'Presence', 'Absence', 'Absence', 'Absence', 'Absence', 'Absence',\n",
       "       'Absence', 'Absence', 'Absence', 'Presence', 'Presence', 'Absence',\n",
       "       'Absence', 'Absence', 'Absence', 'Presence'], dtype=object)"
      ]
     },
     "execution_count": 10,
     "metadata": {},
     "output_type": "execute_result"
    }
   ],
   "source": [
    "# Make predictions on the test set\n",
    "y_pred = model.predict(X_test)\n",
    "y_pred"
   ]
  },
  {
   "cell_type": "code",
   "execution_count": 11,
   "id": "22ede886",
   "metadata": {},
   "outputs": [
    {
     "name": "stdout",
     "output_type": "stream",
     "text": [
      "Accuracy: 0.9074074074074074\n"
     ]
    }
   ],
   "source": [
    "# Calculate accuracy\n",
    "accuracy = accuracy_score(y_test, y_pred)\n",
    "print(\"Accuracy:\", accuracy)"
   ]
  },
  {
   "cell_type": "markdown",
   "id": "bc6347d9",
   "metadata": {},
   "source": [
    "# Classification Report"
   ]
  },
  {
   "cell_type": "code",
   "execution_count": 12,
   "id": "af915622",
   "metadata": {},
   "outputs": [
    {
     "name": "stdout",
     "output_type": "stream",
     "text": [
      "Classification report :\n",
      "               precision    recall  f1-score   support\n",
      "\n",
      "     Absence       0.91      0.94      0.93        33\n",
      "    Presence       0.90      0.86      0.88        21\n",
      "\n",
      "    accuracy                           0.91        54\n",
      "   macro avg       0.91      0.90      0.90        54\n",
      "weighted avg       0.91      0.91      0.91        54\n",
      "\n"
     ]
    }
   ],
   "source": [
    "matrix = classification_report(y_test, y_pred)\n",
    "print(\"Classification report :\\n\", matrix)"
   ]
  },
  {
   "cell_type": "markdown",
   "id": "d2b9355a",
   "metadata": {},
   "source": [
    "# Confusion Matrix"
   ]
  },
  {
   "cell_type": "code",
   "execution_count": 13,
   "id": "a44fa4d0",
   "metadata": {},
   "outputs": [
    {
     "name": "stdout",
     "output_type": "stream",
     "text": [
      "Confusion Matrix:\n",
      "[[31  2]\n",
      " [ 3 18]]\n"
     ]
    }
   ],
   "source": [
    "# Generate a confusion matrix\n",
    "conf_matrix = confusion_matrix(y_test, y_pred)\n",
    "print(\"Confusion Matrix:\")\n",
    "print(conf_matrix)"
   ]
  },
  {
   "cell_type": "code",
   "execution_count": 14,
   "id": "701c430e",
   "metadata": {},
   "outputs": [
    {
     "data": {
      "image/png": "[encoded data removed]",
      "text/plain": [
       "<Figure size 800x600 with 2 Axes>"
      ]
     },
     "metadata": {},
     "output_type": "display_data"
    }
   ],
   "source": [
    "class_names = [\"Presence\", \"Absence\"]\n",
    "\n",
    "plot_confusion_matrix(y_test, y_pred, class_names)"
   ]
  }
 ],
 "metadata": {
  "kernelspec": {
   "display_name": "Python 3 (ipykernel)",
   "language": "python",
   "name": "python3"
  },
  "language_info": {
   "codemirror_mode": {
    "name": "ipython",
    "version": 3
   },
   "file_extension": ".py",
   "mimetype": "text/x-python",
   "name": "python",
   "nbconvert_exporter": "python",
   "pygments_lexer": "ipython3",
   "version": "3.9.13"
  }
 },
 "nbformat": 4,
 "nbformat_minor": 5
}
